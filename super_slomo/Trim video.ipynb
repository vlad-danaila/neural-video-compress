{
 "cells": [
  {
   "cell_type": "code",
   "execution_count": 62,
   "metadata": {},
   "outputs": [],
   "source": [
    "import os"
   ]
  },
  {
   "cell_type": "code",
   "execution_count": 63,
   "metadata": {},
   "outputs": [],
   "source": [
    "input_video = 'Minions__Bubble_Gum.mp4'\n",
    "video_no_sound = 'Minions_NO_SOUND.mkv'\n",
    "output_video = 'Minions.mkv'"
   ]
  },
  {
   "cell_type": "code",
   "execution_count": 64,
   "metadata": {},
   "outputs": [],
   "source": [
    "def check_error(status_code, error_msg):\n",
    "    if status_code > 0:\n",
    "        raise Exception(error_msg)\n",
    "\n",
    "def remove_sound(video_in, video_out):\n",
    "    remove_sound_cmd = 'ffmpeg -y -i {} -c copy -an {}'.format(video_in, video_out)\n",
    "    status_code = os.system(remove_sound_cmd)\n",
    "    check_error(status_code, 'While removing sound from file {}, command was ##{}##'.format(video_in, remove_sound_cmd))\n",
    "        \n",
    "def fasten_video(video_in, video_out, fps, ratio):\n",
    "    fasten_cmd = 'ffmpeg -y -i {} -r {} -filter:v \"setpts={}*PTS\" {}'.format(video_in, fps, ratio, video_out)\n",
    "    status_code = os.system(fasten_cmd)\n",
    "    check_error(status_code, 'While dropping frames of video {}, command was ##{}##'.format(video_in, fasten_cmd))\n",
    "    \n",
    "def remove_file(file):\n",
    "    rem_file_cmd = 'rm {}'.format(file)\n",
    "    status_code = os.system(rem_file_cmd)\n",
    "    check_error(status_code, 'Can\\'t remove file ' + file)"
   ]
  },
  {
   "cell_type": "code",
   "execution_count": 65,
   "metadata": {},
   "outputs": [],
   "source": [
    "remove_sound(input_video, video_no_sound)\n",
    "fasten_video(video_no_sound, output_video, fps = 24, ratio = 0.25)\n",
    "remove_file(video_no_sound)"
   ]
  }
 ],
 "metadata": {
  "kernelspec": {
   "display_name": "Python 3",
   "language": "python",
   "name": "python3"
  },
  "language_info": {
   "codemirror_mode": {
    "name": "ipython",
    "version": 3
   },
   "file_extension": ".py",
   "mimetype": "text/x-python",
   "name": "python",
   "nbconvert_exporter": "python",
   "pygments_lexer": "ipython3",
   "version": "3.6.9"
  }
 },
 "nbformat": 4,
 "nbformat_minor": 4
}
